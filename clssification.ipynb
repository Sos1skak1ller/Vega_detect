{
 "cells": [
  {
   "cell_type": "code",
   "execution_count": 1,
   "metadata": {},
   "outputs": [],
   "source": [
    "import cv2\n",
    "import numpy as np\n",
    "from scipy.ndimage import label"
   ]
  },
  {
   "cell_type": "code",
   "execution_count": null,
   "metadata": {},
   "outputs": [],
   "source": [
    "def split_image(image_path, tile_size=(2000, 2000)):\n",
    "    image = cv2.imread(image_path, cv2.IMREAD_GRAYSCALE)\n",
    "    h, w = image.shape\n",
    "    tiles = []\n",
    "    \n",
    "    for i in range(0, w, tile_size[0]):\n",
    "        tile = image[:, i:i + tile_size[0]]\n",
    "        tiles.append((tile, i))  # Сохраняем координату x для корректного объединения границ\n",
    "    \n",
    "    return tiles\n",
    "\n",
    "def detect_objects(image):\n",
    "    _, binary = cv2.threshold(image, 127, 255, cv2.THRESH_BINARY)\n",
    "    structure = np.ones((3,3), dtype=np.int)\n",
    "    labeled, num_objects = label(binary, structure)\n",
    "    \n",
    "    objects = []\n",
    "    for i in range(1, num_objects + 1):\n",
    "        y, x = np.where(labeled == i)\n",
    "        x_min, x_max = x.min(), x.max()\n",
    "        y_min, y_max = y.min(), y.max()\n",
    "        objects.append((x_min, y_min, x_max, y_max))\n",
    "    \n",
    "    return objects\n",
    "\n",
    "def process_image(image_path):\n",
    "    tiles = split_image(image_path)\n",
    "    all_objects = []\n",
    "    \n",
    "    for tile, x_offset in tiles:\n",
    "        objects = detect_objects(tile)\n",
    "        adjusted_objects = [(x + x_offset, y, x_max + x_offset, y_max) for x, y, x_max, y_max in objects]\n",
    "        all_objects.extend(adjusted_objects)\n",
    "    \n",
    "    return all_objects\n",
    "\n",
    "def draw_objects(image_path, objects, output_path=\"output.bmp\"):\n",
    "    image = cv2.imread(image_path)\n",
    "    for x1, y1, x2, y2 in objects:\n",
    "        cv2.rectangle(image, (x1, y1), (x2, y2), (0, 255, 0), 2)\n",
    "    cv2.imwrite(output_path, image)\n",
    "\n"
   ]
  },
  {
   "cell_type": "code",
   "execution_count": null,
   "metadata": {},
   "outputs": [],
   "source": [
    "# Пример использования\n",
    "image_path = \"input.bmp\"\n",
    "objects = process_image(image_path)\n",
    "draw_objects(image_path, objects)\n"
   ]
  }
 ],
 "metadata": {
  "kernelspec": {
   "display_name": "venv",
   "language": "python",
   "name": "python3"
  },
  "language_info": {
   "codemirror_mode": {
    "name": "ipython",
    "version": 3
   },
   "file_extension": ".py",
   "mimetype": "text/x-python",
   "name": "python",
   "nbconvert_exporter": "python",
   "pygments_lexer": "ipython3",
   "version": "3.13.2"
  }
 },
 "nbformat": 4,
 "nbformat_minor": 2
}
